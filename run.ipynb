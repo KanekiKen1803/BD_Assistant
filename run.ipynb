{
 "cells": [
  {
   "cell_type": "code",
   "execution_count": 1,
   "metadata": {},
   "outputs": [],
   "source": [
    "transcript = \"\"\"\n",
    "Call Attendees: \n",
    "Accordion: Zak\n",
    "Client: John Doe and Jane from Atlassian\n",
    "Call Summary: \n",
    "Zak opened the discussion with an overview of our company, focusing on our capabilities in large\u0002scale data integration, analytics, and reporting solutions tailored to diverse business needs. He \n",
    "emphasized our expertise in creating flexible reporting frameworks that support both leadership \n",
    "and operational insights, highlighting the potential for enhanced reporting and visualization \n",
    "through Tableau. This set the stage for a deeper discussion on the client’s needs for structured data \n",
    "and a more robust BI reporting environment.\n",
    "John raised the issue of challenges with rebate agreements, which, though not the primary focus of \n",
    "the discussion, emerged as a significant pain point. He described difficulties in managing \n",
    "contractual agreements and structuring pricing models, compounded by data being scattered \n",
    "across unstructured formats, particularly in PDFs. This disorganization makes it challenging to \n",
    "reconcile rebate claims accurately and consistently. We shared a similar use case from another \n",
    "client, detailing how we developed automated processes to centralize and structure unstructured \n",
    "data for more reliable reconciliation.\n",
    "The conversation then moved to operational performance, where John explained the team’s focus \n",
    "on improving on-time delivery, measured through their \"file rate\" metric. He expressed that \n",
    "applying advanced analytics could help them predict and enhance these delivery metrics. We \n",
    "discussed how prescriptive AI tools could enable the team to identify potential delays before they \n",
    "impact delivery timelines, improving overall operational efficiency. John showed interest in \n",
    "exploring prescriptive analytics further, recognizing its potential to optimize delivery schedules \n",
    "and improve customer satisfaction.\n",
    "John provided a brief overview of their existing business intelligence setup, where they currently \n",
    "rely on Power BI dashboards for executive-level reporting across functions like customer service, \n",
    "supply chain, and sales. These dashboards, however, offer only high-level trends with limited drill\u0002down capabilities, which restricts teams from conducting detailed, transaction-level analysis. Jane \n",
    "added that while data flows from systems like SAP and SQL into Power BI are mostly automated, \n",
    "the limitations of Power BI are apparent. The team expressed a strong need to transition to Tableau \n",
    "for both leadership and operational reporting, where they could migrate existing Power BI reports \n",
    "to Tableau to support more flexible data exploration. It was noted, however, that the client’s \n",
    "internal BI team lacks the expertise to handle this migration and to develop complex dashboards \n",
    "independently, underscoring the need for external support.\n",
    "John and Jane outlined their main data modeling challenges. The current models were developed \n",
    "for specific use cases, meaning new questions or ad-hoc analyses require additional data extracts or \n",
    "custom models. John emphasized the need for a centralized data warehouse with unified models to \n",
    "support more flexible analysis across different functions like sales and supply chain. Budget \n",
    "constraints in the past had forced them to load data directly into Power BI, limiting the ability to \n",
    "drill down to transactional levels for root-cause analysis. This situation further underscored the \n",
    "need for a robust data model to enable adaptable and in-depth reporting within Tableau.\n",
    "The team identified two main priorities for new data models: a Sales/Commercial model, which \n",
    "includes supply chain fulfillment data, and a Manufacturing/Cost model. While additional external \n",
    "commercial data (such as POS information) could be integrated later, the immediate focus will be \n",
    "on internal data sources. Key data sources for the Sales/Commercial model include SAP ECC, which \n",
    "supplies 90% of the necessary data, demand forecasts from Vanguard, and supplementary data \n",
    "from Excel files. Although some SAP data also flows into SQL databases, SQL itself is not essential \n",
    "for the initial phase of this model. Jane confirmed that master data quality is solid as it originates \n",
    "from SAP, and John noted that, while his team understands the data well, they will require \n",
    "dedicated support to ensure successful model development and Tableau migration due to a lack of a \n",
    "highly skilled internal BI team.\n",
    "The call concluded with a review of next steps. By Wednesday, we will provide a statement of work \n",
    "(SOW) detailing the design and build of an Azure-based data warehouse, development of data \n",
    "pipelines to integrate SAP ECC, Vanguard, and Excel data, and creation of a comprehensive \n",
    "Sales/Commercial data model. This new infrastructure will support the transition to Tableau, \n",
    "ensuring the reporting environment meets both leadership and operational needs. Due to the \n",
    "limited capabilities of their BI team, our support will extend to the development of initial Tableau \n",
    "dashboards after the data warehouse is established, as well as to the migration of reports from \n",
    "Power BI to Tableau. John and Jane are optimistic that these steps will enable more accessible and \n",
    "actionable insights across their organization\n",
    "\"\"\""
   ]
  },
  {
   "cell_type": "code",
   "execution_count": 2,
   "metadata": {},
   "outputs": [
    {
     "name": "stderr",
     "output_type": "stream",
     "text": [
      "c:\\Users\\ansh_lodhi\\Desktop\\Hackathon\\BD_Assistant\\backend\\pipeline1.py:59: LangChainDeprecationWarning: The class `ChatOpenAI` was deprecated in LangChain 0.0.10 and will be removed in 1.0. An updated version of the class exists in the :class:`~langchain-openai package and should be used instead. To use it run `pip install -U :class:`~langchain-openai` and import as `from :class:`~langchain_openai import ChatOpenAI``.\n",
      "  llm = ChatOpenAI(api_key=openai_api_key, model=\"gpt-4o-mini\")\n",
      "c:\\Users\\ansh_lodhi\\Desktop\\Hackathon\\BD_Assistant\\backend\\pipeline1.py:60: LangChainDeprecationWarning: The class `LLMChain` was deprecated in LangChain 0.1.17 and will be removed in 1.0. Use :meth:`~RunnableSequence, e.g., `prompt | llm`` instead.\n",
      "  llm_chain = LLMChain(prompt=prompt, llm=llm)\n",
      "c:\\Users\\ansh_lodhi\\Desktop\\Hackathon\\BD_Assistant\\backend\\pipeline1.py:63: LangChainDeprecationWarning: The method `Chain.run` was deprecated in langchain 0.1.0 and will be removed in 1.0. Use :meth:`~invoke` instead.\n",
      "  response = llm_chain.run(transcript=transcript)\n"
     ]
    }
   ],
   "source": [
    "from backend.pipeline1 import pipeline1, load_config\n",
    "from backend.pipeline2 import pipeline2, load_paths\n",
    "\n",
    "\n",
    "\n",
    "config = load_config()\n",
    "paths = load_paths()\n",
    "\n",
    "transcript, transcript_report, client_background = pipeline1(transcript, config)\n",
    "top_cases =  pipeline2(transcript_report, config, paths)\n",
    "\n",
    "\n"
   ]
  }
 ],
 "metadata": {
  "kernelspec": {
   "display_name": "hackathon_env",
   "language": "python",
   "name": "python3"
  },
  "language_info": {
   "codemirror_mode": {
    "name": "ipython",
    "version": 3
   },
   "file_extension": ".py",
   "mimetype": "text/x-python",
   "name": "python",
   "nbconvert_exporter": "python",
   "pygments_lexer": "ipython3",
   "version": "3.10.15"
  }
 },
 "nbformat": 4,
 "nbformat_minor": 2
}
