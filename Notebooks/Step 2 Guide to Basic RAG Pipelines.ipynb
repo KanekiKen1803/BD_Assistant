{
 "cells": [
  {
   "cell_type": "markdown",
   "id": "27e99760",
   "metadata": {},
   "source": [
    "### Guide to create basic RAG Pipeline\n",
    "\n",
    "#### This notebook provides guide to create RAG (Retrieval Augmentation System) pipeline\n",
    "\n",
    "#### This document contains following sections:\n",
    "1. Extract text from docuemnts\n",
    "2. Chunking Techniques\n",
    "3. Vector Store\n",
    "4. Retrieval Method\n",
    "5. Q&A Chain\n",
    "\n",
    "#### Short course on RAG using Langchain \n",
    "1. https://learn.deeplearning.ai/courses/langchain-chat-with-your-data/lesson/1/introduction\n",
    "2. https://learn.deeplearning.ai/courses/langchain/lesson/1/introduction\n",
    "3. https://learn.deeplearning.ai/courses/building-evaluating-advanced-rag/lesson/1/introduction"
   ]
  },
  {
   "cell_type": "code",
   "execution_count": 1,
   "id": "51b8a700",
   "metadata": {},
   "outputs": [
    {
     "name": "stderr",
     "output_type": "stream",
     "text": [
      "C:\\Users\\ansh_lodhi\\AppData\\Local\\Temp\\ipykernel_5724\\914353354.py:17: LangChainDeprecationWarning: The class `OpenAIEmbeddings` was deprecated in LangChain 0.0.9 and will be removed in 1.0. An updated version of the class exists in the :class:`~langchain-openai package and should be used instead. To use it run `pip install -U :class:`~langchain-openai` and import as `from :class:`~langchain_openai import OpenAIEmbeddings``.\n",
      "  embedding = OpenAIEmbeddings(api_key=openai_key)\n"
     ]
    }
   ],
   "source": [
    "### Initiate LLM object using langchain. Have separate guide.\n",
    "# from langchain.embeddings import AzureOpenAIEmbeddings\n",
    "# from langchain_openai import AzureOpenAIEmbeddings\n",
    "# from langchain_community.chat_models import AzureChatOpenAI\n",
    "\n",
    "from langchain_openai import ChatOpenAI\n",
    "from langchain_community.embeddings.openai import OpenAIEmbeddings\n",
    "\n",
    "\n",
    "## Create embedding of the chunks using Faiss\n",
    "from langchain_community.vectorstores import FAISS\n",
    "\n",
    "# Required following parameters. Update following input parameters. Make sure embedding model and LLM models are deployed within same resource.\n",
    "openai_key=\"<Enter OpenAI Key Here>\"\n",
    "llm = ChatOpenAI(api_key=openai_key,model=\"gpt-4o-mini\")\n",
    "\n",
    "embedding = OpenAIEmbeddings(api_key=openai_key)\n",
    "\n",
    "# llm = AzureChatOpenAI(azure_deployment=api_deployment,\n",
    "#                       api_version=api_version,\n",
    "#                       azure_endpoint=base_url,\n",
    "#                       api_key=api_key,\n",
    "#                       model=model_name)\n",
    "\n",
    "\n",
    "# embedding = AzureOpenAIEmbeddings(deployment=embedding_deployment,\n",
    "#                                         openai_api_key=api_key,\n",
    "#                                         openai_api_version=api_version,\n",
    "#                                         azure_endpoint=base_url,\n",
    "#                                         openai_api_type=\"azure\")\n"
   ]
  },
  {
   "cell_type": "markdown",
   "id": "466c10d8",
   "metadata": {},
   "source": [
    "### Extract Text from the Documents or Read Files"
   ]
  },
  {
   "cell_type": "markdown",
   "id": "216c24c3",
   "metadata": {},
   "source": [
    "#### There are variety of loaders are integrated with the langchain. Follow Link for more details: https://python.langchain.com/docs/integrations/document_loaders/"
   ]
  },
  {
   "cell_type": "code",
   "execution_count": 2,
   "id": "6232e4c0",
   "metadata": {},
   "outputs": [],
   "source": [
    "## Use PymuPDF library integrated with langchain to load the documents\n",
    "from langchain_community.document_loaders import PyMuPDFLoader,Docx2txtLoader\n",
    "\n",
    "\n",
    "loader = PyMuPDFLoader(r\"Tanico.pdf\")\n",
    "documents=loader.load()"
   ]
  },
  {
   "cell_type": "code",
   "execution_count": 3,
   "id": "d6a1a1e9",
   "metadata": {},
   "outputs": [
    {
     "data": {
      "text/plain": [
       "Document(metadata={'source': 'Tanico.pdf', 'file_path': 'Tanico.pdf', 'page': 0, 'total_pages': 26, 'format': 'PDF 1.4', 'title': '', 'author': '', 'subject': '', 'keywords': '', 'creator': 'wkhtmltopdf 0.12.5', 'producer': 'Qt 5.12.8', 'creationDate': \"D:20240125071904+01'00'\", 'modDate': '', 'trapped': ''}, page_content='Inline Viewer\\nMenu Menu\\nInformation Save XBRL Instance Save XBRL Zip File Open as HTML Settings Help\\nSections Sections\\nAdditional Search Options\\n Include Fact Name\\n Include Fact Content\\n Include Labels\\n Include Definitions\\n Include Dimensions\\nReference Options\\n Include Topic\\n Include Sub-Topic\\n Include Paragraph\\n Include Publisher\\n Include Section\\n Match Case\\nSearch Facts\\nClear Search  Submit Search\\nData Data\\n All\\n Amounts Only\\n Text Only\\n Calculations Only\\n Negatives Only\\n Additional Items Only\\nTags Tags\\n All\\n Standard Only\\n Custom Only\\nMore Filters More Filters\\nSelecting any of the below will take a few moments.\\nPeriods\\nMeasures\\nAxis\\n Explicit\\n Typed\\nMembers\\n Explicit\\n Typed\\nScale\\nBalance 2\\n Debit\\n Credit\\nReset All Filters\\nLinks\\nFacts 233\\nLoading Inline Form.\\nTagged Sections\\n Search in All.\\n Search in Internal Sections Only.\\n Search in External Sections Only.\\nSearch Sections\\nClear Sections Search  Submit Sections Search\\nHelp\\nGetting Started\\nThe Inline XBRL viewer allows a user to quickly and easily review details of the tagged information in an Inline\\ndocument by automatically placing a top and bottom highlight border around each tagged numeric fact and left and\\n')"
      ]
     },
     "execution_count": 3,
     "metadata": {},
     "output_type": "execute_result"
    }
   ],
   "source": [
    "# By default it will load documents as langchain document object if imported from the langchain\n",
    "documents[0]"
   ]
  },
  {
   "cell_type": "code",
   "execution_count": 4,
   "id": "baf3be0c",
   "metadata": {},
   "outputs": [
    {
     "name": "stdout",
     "output_type": "stream",
     "text": [
      "# of pages in documents 26\n"
     ]
    }
   ],
   "source": [
    "print(\"# of pages in documents\",len(documents))"
   ]
  },
  {
   "cell_type": "markdown",
   "id": "99549ead",
   "metadata": {},
   "source": [
    "#### Link: Create langchain document object manually\n",
    "https://python.langchain.com/api_reference/core/documents/langchain_core.documents.base.Document.html#langchain_core.documents.base.Document"
   ]
  },
  {
   "cell_type": "markdown",
   "id": "dd6e9b2a",
   "metadata": {},
   "source": [
    "### Chunks the documents"
   ]
  },
  {
   "cell_type": "markdown",
   "id": "040f7d40",
   "metadata": {},
   "source": [
    "#### Link of variety of chunking techniques: https://python.langchain.com/v0.1/docs/modules/data_connection/document_transformers/"
   ]
  },
  {
   "cell_type": "code",
   "execution_count": 5,
   "id": "6b6a719e",
   "metadata": {},
   "outputs": [],
   "source": [
    "from langchain.text_splitter import RecursiveCharacterTextSplitter\n",
    "\n",
    "splitter=RecursiveCharacterTextSplitter(chunk_size=1500,chunk_overlap=200,separators=[\"\\n\\n\",\"\\n\",\" \"])\n",
    "splitted_documents=splitter.split_documents(documents)"
   ]
  },
  {
   "cell_type": "code",
   "execution_count": 6,
   "id": "a8b3f105",
   "metadata": {},
   "outputs": [
    {
     "data": {
      "text/plain": [
       "60"
      ]
     },
     "execution_count": 6,
     "metadata": {},
     "output_type": "execute_result"
    }
   ],
   "source": [
    "len(splitted_documents)"
   ]
  },
  {
   "cell_type": "code",
   "execution_count": 7,
   "id": "5e84bda2",
   "metadata": {},
   "outputs": [
    {
     "data": {
      "text/plain": [
       "Document(metadata={'source': 'Tanico.pdf', 'file_path': 'Tanico.pdf', 'page': 0, 'total_pages': 26, 'format': 'PDF 1.4', 'title': '', 'author': '', 'subject': '', 'keywords': '', 'creator': 'wkhtmltopdf 0.12.5', 'producer': 'Qt 5.12.8', 'creationDate': \"D:20240125071904+01'00'\", 'modDate': '', 'trapped': ''}, page_content='Inline Viewer\\nMenu Menu\\nInformation Save XBRL Instance Save XBRL Zip File Open as HTML Settings Help\\nSections Sections\\nAdditional Search Options\\n Include Fact Name\\n Include Fact Content\\n Include Labels\\n Include Definitions\\n Include Dimensions\\nReference Options\\n Include Topic\\n Include Sub-Topic\\n Include Paragraph\\n Include Publisher\\n Include Section\\n Match Case\\nSearch Facts\\nClear Search  Submit Search\\nData Data\\n All\\n Amounts Only\\n Text Only\\n Calculations Only\\n Negatives Only\\n Additional Items Only\\nTags Tags\\n All\\n Standard Only\\n Custom Only\\nMore Filters More Filters\\nSelecting any of the below will take a few moments.\\nPeriods\\nMeasures\\nAxis\\n Explicit\\n Typed\\nMembers\\n Explicit\\n Typed\\nScale\\nBalance 2\\n Debit\\n Credit\\nReset All Filters\\nLinks\\nFacts 233\\nLoading Inline Form.\\nTagged Sections\\n Search in All.\\n Search in Internal Sections Only.\\n Search in External Sections Only.\\nSearch Sections\\nClear Sections Search  Submit Sections Search\\nHelp\\nGetting Started\\nThe Inline XBRL viewer allows a user to quickly and easily review details of the tagged information in an Inline\\ndocument by automatically placing a top and bottom highlight border around each tagged numeric fact and left and')"
      ]
     },
     "execution_count": 7,
     "metadata": {},
     "output_type": "execute_result"
    }
   ],
   "source": [
    "splitted_documents[0]"
   ]
  },
  {
   "cell_type": "code",
   "execution_count": 8,
   "id": "ee40426f",
   "metadata": {},
   "outputs": [
    {
     "data": {
      "text/plain": [
       "{'source': 'Tanico.pdf',\n",
       " 'file_path': 'Tanico.pdf',\n",
       " 'page': 0,\n",
       " 'total_pages': 26,\n",
       " 'format': 'PDF 1.4',\n",
       " 'title': '',\n",
       " 'author': '',\n",
       " 'subject': '',\n",
       " 'keywords': '',\n",
       " 'creator': 'wkhtmltopdf 0.12.5',\n",
       " 'producer': 'Qt 5.12.8',\n",
       " 'creationDate': \"D:20240125071904+01'00'\",\n",
       " 'modDate': '',\n",
       " 'trapped': ''}"
      ]
     },
     "execution_count": 8,
     "metadata": {},
     "output_type": "execute_result"
    }
   ],
   "source": [
    "splitted_documents[0].metadata"
   ]
  },
  {
   "cell_type": "code",
   "execution_count": 9,
   "id": "e7d47441",
   "metadata": {},
   "outputs": [
    {
     "data": {
      "text/plain": [
       "'Inline Viewer\\nMenu Menu\\nInformation Save XBRL Instance Save XBRL Zip File Open as HTML Settings Help\\nSections Sections\\nAdditional Search Options\\n Include Fact Name\\n Include Fact Content\\n Include Labels\\n Include Definitions\\n Include Dimensions\\nReference Options\\n Include Topic\\n Include Sub-Topic\\n Include Paragraph\\n Include Publisher\\n Include Section\\n Match Case\\nSearch Facts\\nClear Search  Submit Search\\nData Data\\n All\\n Amounts Only\\n Text Only\\n Calculations Only\\n Negatives Only\\n Additional Items Only\\nTags Tags\\n All\\n Standard Only\\n Custom Only\\nMore Filters More Filters\\nSelecting any of the below will take a few moments.\\nPeriods\\nMeasures\\nAxis\\n Explicit\\n Typed\\nMembers\\n Explicit\\n Typed\\nScale\\nBalance 2\\n Debit\\n Credit\\nReset All Filters\\nLinks\\nFacts 233\\nLoading Inline Form.\\nTagged Sections\\n Search in All.\\n Search in Internal Sections Only.\\n Search in External Sections Only.\\nSearch Sections\\nClear Sections Search  Submit Sections Search\\nHelp\\nGetting Started\\nThe Inline XBRL viewer allows a user to quickly and easily review details of the tagged information in an Inline\\ndocument by automatically placing a top and bottom highlight border around each tagged numeric fact and left and'"
      ]
     },
     "execution_count": 9,
     "metadata": {},
     "output_type": "execute_result"
    }
   ],
   "source": [
    "splitted_documents[0].page_content"
   ]
  },
  {
   "cell_type": "markdown",
   "id": "6e94ca31",
   "metadata": {},
   "source": [
    "### Vector Store\n",
    "\n",
    "#### Find the details on various vector store to link: https://python.langchain.com/v0.1/docs/integrations/vectorstores/"
   ]
  },
  {
   "cell_type": "code",
   "execution_count": 10,
   "id": "f0167d5a",
   "metadata": {},
   "outputs": [],
   "source": [
    "## Used FAISS index -- in memory to generate the embeddings\n",
    "from langchain_community.vectorstores import FAISS\n",
    "\n",
    "db = FAISS.from_documents(splitted_documents,embedding)"
   ]
  },
  {
   "cell_type": "code",
   "execution_count": 11,
   "id": "5efb5c58",
   "metadata": {},
   "outputs": [],
   "source": [
    "#Visualize the faiss indexes\n",
    "#db.docstore.__dict__"
   ]
  },
  {
   "cell_type": "code",
   "execution_count": 12,
   "id": "7bdad1dd",
   "metadata": {},
   "outputs": [],
   "source": [
    "# For read and write operation embeddings can be stored to disc\n",
    "db.save_local(\"./Index\")"
   ]
  },
  {
   "cell_type": "code",
   "execution_count": 13,
   "id": "ca6d179b",
   "metadata": {},
   "outputs": [],
   "source": [
    "# Load the DB\n",
    "try:\n",
    "    db=FAISS.load_local(\"./Index\",embedding)    \n",
    "except:\n",
    "    db=FAISS.load_local(\"./Index\",embedding,allow_dangerous_deserialization=True)"
   ]
  },
  {
   "cell_type": "markdown",
   "id": "553742bb",
   "metadata": {},
   "source": [
    "### Retrieval Method"
   ]
  },
  {
   "cell_type": "code",
   "execution_count": 14,
   "id": "1b670218",
   "metadata": {},
   "outputs": [],
   "source": [
    "## Retrieve most similar chunks to user inputs from vector db. Various db supports various types of indexing i.e. IVF_FLAT\n",
    "##i.e., Retrieve the most similar 5 chunks from the DB.\n",
    "user_prompt=\"What is Total Assest as of Decemeber, 31  2023 for Tanico?\"\n",
    "most_similar_chunks = db.similarity_search_with_score(user_prompt,k=10)"
   ]
  },
  {
   "cell_type": "code",
   "execution_count": 15,
   "id": "58238431",
   "metadata": {},
   "outputs": [
    {
     "data": {
      "text/plain": [
       "(Document(metadata={'source': 'Tanico.pdf', 'file_path': 'Tanico.pdf', 'page': 7, 'total_pages': 26, 'format': 'PDF 1.4', 'title': '', 'author': '', 'subject': '', 'keywords': '', 'creator': 'wkhtmltopdf 0.12.5', 'producer': 'Qt 5.12.8', 'creationDate': \"D:20240125071904+01'00'\", 'modDate': '', 'trapped': ''}, page_content='Table of Contents\\n  \\nTanico Inc.\\nBalance Sheets\\nAs of December 31, 2023 (unaudited) and September 30, 2023\\n \\n  \\n   \\n \\n \\n \\nDecember 31,\\n2023\\n  \\nSeptember 30,\\n2023\\n \\nASSETS\\n  \\n   \\n \\n \\n  \\n   \\n \\nCurrent Assets\\n  \\n   \\n \\nCash\\n $\\n4,849  $\\n14,299 \\nPrepaids and other current assets\\n  \\n-   \\n- \\nTotal Current Assets\\n  \\n4,849   \\n14,299 \\nNon-Current Assets\\n   \\n    \\n \\nProperty, Plant & Equipment (net)\\n  \\n121   \\n241 \\nTotal Non-Current Assets\\n  \\n121   \\n241 \\nTotal Assets\\n $\\n4,970  $\\n14,540 \\n \\n   \\n    \\n \\nLIABILITIES AND STOCKHOLDERS’ EQUITY (DEFICIT)\\n   \\n    \\n \\nCurrent Liabilities\\n   \\n    \\n \\nAccounts Payable and Accrued Expenses\\n $\\n2,748  $\\n8,099 \\nDeferred Revenue\\n  \\n-   \\n- \\nDue to Related Party\\n  \\n18,007   \\n17,791 \\nTotal Current Liabilities\\n  \\n20,755   \\n25,890 \\nTotal Liabilities\\n  \\n20,755   \\n25,890 \\n \\n   \\n    \\n \\nCommitments and contingencies\\n  \\n-   \\n- \\n \\n   \\n    \\n \\nStockholders’ Equity (Deficit)\\n   \\n    \\n \\nCommon Stock, $0.001 par value, 75,000,000 shares authorized, 7,825,000 shares issued and outstanding, respectively\\n  \\n7,825   \\n7,825 \\nAdditional Paid-in Capital\\n  \\n25,425   \\n25,425 \\nAccumulated Deficit\\n  \\n(49,035)   \\n(44,600)\\nTotal Stockholders’ Deficit\\n  \\n(15,785)   \\n(11,350)\\nTotal Liabilities and Stockholders’ Deficit\\n $\\n4,970  $\\n14,540 \\n \\nThe accompanying notes are an integral part of these financial statements.\\n \\n \\nF-1'),\n",
       " 0.21704045)"
      ]
     },
     "execution_count": 15,
     "metadata": {},
     "output_type": "execute_result"
    }
   ],
   "source": [
    "# Receieved response to the langchain document objects. It also stores the metadata & calculated similarity for given chunks\n",
    "most_similar_chunks[0]"
   ]
  },
  {
   "cell_type": "code",
   "execution_count": 16,
   "id": "a82acb0d",
   "metadata": {},
   "outputs": [],
   "source": [
    "aggregated_content = \"\\n\".join([chunk[0].page_content for chunk in most_similar_chunks])"
   ]
  },
  {
   "cell_type": "code",
   "execution_count": 17,
   "id": "c98226b2",
   "metadata": {},
   "outputs": [
    {
     "data": {
      "text/plain": [
       "'Table of Contents\\n  \\nTanico Inc.\\nBalance Sheets\\nAs of December 31, 2023 (unaudited) and September 30, 2023\\n \\n  \\n   \\n \\n \\n \\nDecember 31,\\n2023\\n  \\nSeptember 30,\\n2023\\n \\nASSETS\\n  \\n   \\n \\n \\n  \\n   \\n \\nCurrent Assets\\n  \\n   \\n \\nCash\\n $\\n4,849  $\\n14,299 \\nPrepaids and other current assets\\n  \\n-   \\n- \\nTotal Current Assets\\n  \\n4,849   \\n14,299 \\nNon-Current Assets\\n   \\n    \\n \\nProperty, Plant & Equipment (net)\\n  \\n121   \\n241 \\nTotal Non-Current Assets\\n  \\n121   \\n241 \\nTotal Assets\\n $\\n4,970  $\\n14,540 \\n \\n   \\n    \\n \\nLIABILITIES AND STOCKHOLDERS’ EQUITY (DEFICIT)\\n   \\n    \\n \\nCurrent Liabilities\\n   \\n    \\n \\nAccounts Payable and Accrued Expenses\\n $\\n2,748  $\\n8,099 \\nDeferred Revenue\\n  \\n-   \\n- \\nDue to Related Party\\n  \\n18,007   \\n17,791 \\nTotal Current Liabilities\\n  \\n20,755   \\n25,890 \\nTotal Liabilities\\n  \\n20,755   \\n25,890 \\n \\n   \\n    \\n \\nCommitments and contingencies\\n  \\n-   \\n- \\n \\n   \\n    \\n \\nStockholders’ Equity (Deficit)\\n   \\n    \\n \\nCommon Stock, $0.001 par value, 75,000,000 shares authorized, 7,825,000 shares issued and outstand'"
      ]
     },
     "execution_count": 17,
     "metadata": {},
     "output_type": "execute_result"
    }
   ],
   "source": [
    "aggregated_content[:1000]"
   ]
  },
  {
   "cell_type": "markdown",
   "id": "c24c3917",
   "metadata": {},
   "source": [
    "### Final Q&A"
   ]
  },
  {
   "cell_type": "code",
   "execution_count": 18,
   "id": "e4f8ea03",
   "metadata": {},
   "outputs": [],
   "source": [
    "## Once retrieved the content than can be leveraged to generate the final response. Here custom user instruction prompts can be passed.\n",
    "\n",
    "overall_message = \"\"\"\n",
    "                Based on the provided content response to question mentioned question.\n",
    "                \n",
    "                Content: {}\n",
    "                \n",
    "                Question: {}\n",
    "                    \n",
    "                \"\"\".format(aggregated_content,user_prompt)\n",
    "\n",
    "response = llm.invoke(overall_message)\n",
    "\n"
   ]
  },
  {
   "cell_type": "code",
   "execution_count": 19,
   "id": "a72b96bf",
   "metadata": {},
   "outputs": [
    {
     "data": {
      "text/plain": [
       "'The Total Assets for Tanico Inc. as of December 31, 2023, is $4,970.'"
      ]
     },
     "execution_count": 19,
     "metadata": {},
     "output_type": "execute_result"
    }
   ],
   "source": [
    "response.content"
   ]
  },
  {
   "cell_type": "markdown",
   "id": "a0ca59f0",
   "metadata": {},
   "source": [
    "### Leverage the inbuild Retrieval Methods available as part of the Langchain Framework:"
   ]
  },
  {
   "cell_type": "markdown",
   "id": "6f8e3f3d",
   "metadata": {},
   "source": [
    "#### Link: https://python.langchain.com/v0.1/docs/modules/data_connection/retrievers/"
   ]
  },
  {
   "cell_type": "code",
   "execution_count": 21,
   "id": "34972683",
   "metadata": {},
   "outputs": [],
   "source": [
    "# 0.20*80"
   ]
  },
  {
   "cell_type": "code",
   "execution_count": null,
   "id": "51d2d39b",
   "metadata": {},
   "outputs": [],
   "source": []
  }
 ],
 "metadata": {
  "kernelspec": {
   "display_name": "Python 3 (ipykernel)",
   "language": "python",
   "name": "python3"
  },
  "language_info": {
   "codemirror_mode": {
    "name": "ipython",
    "version": 3
   },
   "file_extension": ".py",
   "mimetype": "text/x-python",
   "name": "python",
   "nbconvert_exporter": "python",
   "pygments_lexer": "ipython3",
   "version": "3.10.0"
  }
 },
 "nbformat": 4,
 "nbformat_minor": 5
}
