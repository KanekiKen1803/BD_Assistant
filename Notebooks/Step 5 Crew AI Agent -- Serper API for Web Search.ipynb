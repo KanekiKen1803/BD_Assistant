{
 "cells": [
  {
   "cell_type": "code",
   "execution_count": 1,
   "id": "ff888435-ac31-4739-b039-f65afd104e88",
   "metadata": {},
   "outputs": [],
   "source": [
    "##Install crewAI using following lines: \n",
    "# 1. pip install crewai\n",
    "# 2. pip install 'crewai[tools]'\n",
    "\n",
    "# from langchain_openai import AzureChatOpenAI as ACOAI\n",
    "\n",
    "from crewai import Agent, Task, Crew, Process\n",
    "from crewai_tools import SerperDevTool, ScrapeWebsiteTool"
   ]
  },
  {
   "cell_type": "markdown",
   "id": "247e0712-e04c-4a03-82ca-f5be796186b5",
   "metadata": {},
   "source": [
    "#### Find the source course on Agentic AI: \n",
    "1. https://learn.deeplearning.ai/courses/multi-ai-agent-systems-with-crewai/lesson/1/introduction\n",
    "3. https://learn.deeplearning.ai/courses/practical-multi-ai-agents-and-advanced-use-cases-with-crewai/lesson/1/introduction\n",
    "4. https://learn.deeplearning.ai/courses/ai-agents-in-langgraph/lesson/1/introduction"
   ]
  },
  {
   "cell_type": "markdown",
   "id": "1c50c7a1",
   "metadata": {},
   "source": [
    "### Create the serper account which allows free credits\n",
    "\n",
    "1. Go to the Link: https://serper.dev/\n",
    "2. Create new account. \n",
    "3. Log in with the new account\n",
    "4. From left panel to go the api key section and store that API key to Environemnt variable \"SERPER_API_KEY\""
   ]
  },
  {
   "cell_type": "code",
   "execution_count": 2,
   "id": "b886c469-3585-4faa-8eff-53b1f6189b86",
   "metadata": {},
   "outputs": [],
   "source": [
    "## Store serper api key to environment variable SERPER_API_KEY\n",
    "import os\n",
    "\n",
    "# Required following parameters. Update following input parameters. Make sure embedding model and LLM models are deployed within same resource.\n",
    "openai_key=\"<Enter OpenAI Key Here>\"\n",
    "os.environ['SERPER_API_KEY'] = \"<Enter Your Serper API key Here>\"\n",
    "\n",
    "## Following is very essential to run crewAI agent. Environment key OPENAI_API_KEY must be set up.\n",
    "os.environ[\"OPENAI_API_KEY\"]= openai_key"
   ]
  },
  {
   "cell_type": "code",
   "execution_count": 3,
   "id": "cf404b0a-b6db-4045-879f-94eaf595066f",
   "metadata": {},
   "outputs": [],
   "source": [
    "from langchain_openai import ChatOpenAI\n",
    "from langchain_community.embeddings.openai import OpenAIEmbeddings\n",
    "llm_crew = ChatOpenAI(api_key=openai_key,model=\"gpt-4o-mini\")"
   ]
  },
  {
   "cell_type": "code",
   "execution_count": 4,
   "id": "b6c63acb",
   "metadata": {},
   "outputs": [],
   "source": [
    "# llm_crew.invoke(\"HI\")"
   ]
  },
  {
   "cell_type": "code",
   "execution_count": 5,
   "id": "a72d317e-ca79-47e1-916c-13dde8806baf",
   "metadata": {},
   "outputs": [],
   "source": [
    "# Define the Agents\n",
    "internet_research_agent = Agent(\n",
    "role = \"Internet Research Agent\",\n",
    "goal = \"Your Goal is to extract the infromation from the internet and gather information from trusted web sources to answer user's queries.\",\n",
    "backstory = \"You are an Internet Research Agent specialized in helping users in answering their queries with the use of provided tools to you.\",\n",
    "allow_delegation = False,\n",
    "verbose = True,\n",
    "llm = ChatOpenAI(api_key=openai_key,model=\"gpt-4o-mini\"))\n",
    "\n",
    "# Define tools for the tasks\n",
    "tools = [SerperDevTool(), ScrapeWebsiteTool()]\n",
    "\n",
    "# Define Tasks for Agents\n",
    "internet_research_task = Task(\n",
    "description = \"Answer the following user's query : {question}\",\n",
    "expected_output = \"A detailed information about the company on the topics mentioned in the {question}\",\n",
    "tools = tools,\n",
    "agent = internet_research_agent,\n",
    ")\n",
    "\n",
    "agents = [internet_research_agent]\n",
    "tasks = [internet_research_task]\n",
    "\n",
    "crew = Crew(\n",
    "        agents = agents,\n",
    "        tasks = tasks,\n",
    "        process = Process.sequential,\n",
    "        verbose=True\n",
    "    )"
   ]
  },
  {
   "cell_type": "code",
   "execution_count": 6,
   "id": "16b238b6-2f6c-4ecc-9914-23f08b44101e",
   "metadata": {},
   "outputs": [
    {
     "name": "stdout",
     "output_type": "stream",
     "text": [
      "\u001b[1m\u001b[95m# Agent:\u001b[00m \u001b[1m\u001b[92mInternet Research Agent\u001b[00m\n",
      "\u001b[95m## Task:\u001b[00m \u001b[92mAnswer the following user's query : Domain of the industry where accordion operates?\u001b[00m\n",
      "\n",
      "\n",
      "\u001b[1m\u001b[95m# Agent:\u001b[00m \u001b[1m\u001b[92mInternet Research Agent\u001b[00m\n",
      "\u001b[95m## Thought:\u001b[00m \u001b[92mI need to gather information about the domain of the industry where Accordion operates. I will start by searching the internet for relevant information.\u001b[00m\n",
      "\u001b[95m## Using tool:\u001b[00m \u001b[92mSearch the internet\u001b[00m\n",
      "\u001b[95m## Tool Input:\u001b[00m \u001b[92m\n",
      "\"{\\\"search_query\\\": \\\"Accordion company industry domain\\\"}\"\u001b[00m\n",
      "\u001b[95m## Tool Output:\u001b[00m \u001b[92m\n",
      "\n",
      "Search results: Title: Accordion Partners Business Profile - Responsify\n",
      "Link: https://www.responsify.com/profile/accordion.com\n",
      "Snippet: Description: Accordion is a private equity focused financial consulting and technology firm that provides operational prowess and an execution oriented approach ...\n",
      "---\n",
      "Title: Accordion (company) - Wikipedia\n",
      "Link: https://en.wikipedia.org/wiki/Accordion_(company)\n",
      "Snippet: The firm specializes in corporate and strategic finance, merger and acquisition execution, public company readiness, turnaround and restructuring, and ...\n",
      "---\n",
      "Title: About | Accordion\n",
      "Link: https://www.accordion.com/our-story/\n",
      "Snippet: Accordion is a private equity-focused financial and technology consulting firm. Rooted in a heritage of serving the office of the CFO, Accordion works at ...\n",
      "---\n",
      "Title: About ACCORDION @ ATCORE\n",
      "Link: https://accordiontec.com/about-us\n",
      "Snippet: At Accordion we specialise in managed test services, specialised test services, test advisory and consulting. We enable our global clients to produce higher ...\n",
      "---\n",
      "Title: Company | Accordion\n",
      "Link: http://193.201.124.129/accordiontec/company.html\n",
      "Snippet: We hold domain expertise in offering IT solutions for the travel industry and providing workforce management solutions to businesses across all industries.\n",
      "---\n",
      "Title: Accordion Market Report 2024 (Global Edition)\n",
      "Link: https://www.cognitivemarketresearch.com/accordion-market-report?srsltid=AfmBOop3bL4HfoReilD5N3OfbcCNgOEQrJqKTK0brZ3TB53vKWnV-Ufz\n",
      "Snippet: Global Accordion market size 2023 was XX Million. Accordion Industry compound annual growth rate (CAGR) will be XX% from 2024 till 2031.\n",
      "---\n",
      "Title: Accordion Email verification & Email checker | NeverBounce\n",
      "Link: https://www.neverbounce.com/company/accordion/353768729\n",
      "Snippet: What industry does Accordion belongs to? Accordion is in the industry of Business Services, Management Consulting, Finance. What does Accordion do?\n",
      "---\n",
      "Title: Assets - ACCORDION Project\n",
      "Link: https://www.accordion-project.eu/assets/\n",
      "Snippet: The integrated system directly exploitable in the vertical industries of the project and amenable to adaptations to address other industry domains. Resource ...\n",
      "---\n",
      "Title: Accordion - A cloud native framework to enable fast SDLC for SaaS ...\n",
      "Link: https://outshift.cisco.com/blog/accordion-a-cloud-native-framework-to-enable-fast-sdlc-for-saas-and-on-prem-projects\n",
      "Snippet: Accordions can expedite development by eliminating the necessity to master domain-specific languages like Groovy that are difficult to manage at ...\n",
      "---\n",
      "\u001b[00m\n",
      "\n",
      "\n",
      "\u001b[1m\u001b[95m# Agent:\u001b[00m \u001b[1m\u001b[92mInternet Research Agent\u001b[00m\n",
      "\u001b[95m## Thought:\u001b[00m \u001b[92mI found relevant information about Accordion and its industry domain. I will read the most informative source to gather detailed content.\u001b[00m\n",
      "\u001b[95m## Using tool:\u001b[00m \u001b[92mRead website content\u001b[00m\n",
      "\u001b[95m## Tool Input:\u001b[00m \u001b[92m\n",
      "\"{\\\"website_url\\\": \\\"https://en.wikipedia.org/wiki/Accordion_(company)\\\"}\"\u001b[00m\n",
      "\u001b[95m## Tool Output:\u001b[00m \u001b[92m\n",
      "Accordion (company) - Wikipedia\n",
      "Jump to content\n",
      "Main menu\n",
      "Main menu\n",
      "move to sidebar\n",
      "hide\n",
      "\t\tNavigation\n",
      "Main pageContentsCurrent eventsRandom articleAbout WikipediaContact us\n",
      "\t\tContribute\n",
      "HelpLearn to editCommunity portalRecent changesUpload file\n",
      "Search\n",
      "Search\n",
      "Appearance\n",
      "Donate\n",
      "Create account\n",
      "Log in\n",
      "Personal tools\n",
      "Donate Create account Log in\n",
      "\t\tPages for logged out editors learn more\n",
      "ContributionsTalk\n",
      "Contents\n",
      "move to sidebar\n",
      "hide\n",
      "(Top)\n",
      "1\n",
      "History\n",
      "2\n",
      "Office locations\n",
      "3\n",
      "References\n",
      "4\n",
      "External links\n",
      "Toggle the table of contents\n",
      "Accordion (company)\n",
      "Add languages\n",
      "Add links\n",
      "ArticleTalk\n",
      "English\n",
      "ReadEditView history\n",
      "Tools\n",
      "Tools\n",
      "move to sidebar\n",
      "hide\n",
      "\t\tActions\n",
      "ReadEditView history\n",
      "\t\tGeneral\n",
      "What links hereRelated changesUpload fileSpecial pagesPermanent linkPage informationCite this pageGet shortened URLDownload QR code\n",
      "\t\tPrint/export\n",
      "Download as PDFPrintable version\n",
      "\t\tIn other projects\n",
      "Wikidata item\n",
      "Appearance\n",
      "move to sidebar\n",
      "hide\n",
      "From Wikipedia, the free encyclopedia\n",
      "American Consulting Company\n",
      "Accordion Partners LLCTrade nameAccordionCompany typePrivate companyIndustryConsulting firmFounded2009FounderNick LeopardHeadquartersNew York City, New York, United StatesNumber of locationsNew York City, Los Angeles, San Francisco, Chicago, Dallas, Boston, Hyderabad, Atlanta, Charlotte, LondonArea servedGlobalKey peopleNick Leopard(CEO & Founder)[1]Atul Aggarwal(President)Jon Apter(CFO)ServicesCorporate FinanceFinancial AdvisoryForensic AccountingTurnaroundRestructuringManagement consultingData & AnalyticsNumber of employees900+WebsiteAccordion.com\n",
      "Accordion Partners LLC is a private equity-focused business advisory and management consulting firm headquartered in New York operating under Accordion brand. The firm specializes in corporate and strategic finance, merger and acquisition execution, public company readiness, turnaround and restructuring, and technology.\n",
      "History[edit]\n",
      "Accordion was founded in 2009 as Accordion Partners LLC by Nick Leopard, a former Bear Stearns investment banker.[2] According to The Wall Street Journal, the firm \"specializes in services for the chief financial officers and finance teams at private-equity portfolio companies.\"[3]\n",
      "In 2017, Accordion announced the expansion of their services into California with the opening of their San Francisco office.[4]\n",
      "In 2018, the private equity firm FFL Partners took a minority stake in Accordion.[5]\n",
      "Atul Aggarwal joined as president in April 2019[6] to support the firm's new operating model and accelerate growth.[7] Aggarwal was previously a Partner at Bain & Company.\n",
      "In March 2020, Accordion launched Maestro, a software platform designed to maximize value in private equity-backed companies.[8] Maestro would go on to be spun off and secured $7,200,000 in a Series A round of funding led by S&P Global Market Intelligence.[9]\n",
      "In May 2021, the company acquired turnaround and restructuring firm Mackinac Partners.[10]\n",
      "Early in 2022, Accordion acquired the Enterprise Performance Management (EPM) consulting firm Platform Specialists.[11] In June 2022, they announced their Dallas office expansion and move Uptown.[12]\n",
      "Accordion Headquarters at One Vanderbilt, New York City\n",
      "In August 2022, Accordion acquired ABACI, an Enterprise Resourcing Planning (ERP) and Enterprise Performance Management (EPM) consultancy.[13] The following month, FFL Partners sold their stake in Accordion to Charlesbank and Motive Partners.[14][15] In November 2022, Accordion Managing Director and Co-Head of their Western Region Rishi Jain was added to a team of advisors to help guide FTX through Chapter 11.[16]\n",
      "In May 2023, Accordion acquired Merilytics, a Hyderabad, India-based provider of analytics, data management, and business intelligence services.[17]\n",
      "In February 2024, Accordion acquired OperationsRx, a Charlotte, North Carolina-based operations and supply chain transformation advisory firm.[18]\n",
      "Office locations[edit]\n",
      "Accordion is headquartered at One Vanderbilt,[19] in New York City, with offices in Atlanta, Boston, Charlotte, Chicago, Dallas, Detroit, Los Angeles, San Francisco, South Florida, they also have an office in Hyderabad, India..[20]\n",
      "References[edit]\n",
      "^ \"Q&A: Discussing the evolving role of the portfolio company CFO with Accordion Partners\". Pitchbook. May 20, 2016.\n",
      "^ \"A Private Word With Nick Leopard\". WSJ. September 6, 2016.\n",
      "^ \"FFL Provides Growth-Equity Investment for Accordion Partners\". WSJ. October 10, 2018.\n",
      "^ \"Firm opens S.F. office to help private equity investors embrace tech's growth\". San Francisco Business Times. June 13, 2017.\n",
      "^ \"FFL Provides Growth-Equity Investment for Accordion Partners\". WSJ. October 10, 2018.\n",
      "^ \"Bain veteran named president of Accordion\". S&P Global. April 30, 2019.\n",
      "^ \"Accordion Announces New Operating Model to Support and Accelerate Growth\". Business Insider. October 24, 2019.\n",
      "^ \"Accordion Formally Launches Maestro, The First Software Platform Built to Maximize Value In Private Equity-Backed Companies\". PR Web. March 4, 2020.\n",
      "^ \"Maestro Secures $7.2 Million in Series A to Grow Portfolio Management Platform Built for Private Equity\". PR Web. November 10, 2020.\n",
      "^ \"Accordion Announces Strategic Acquisition of Turnaround and Restructuring Firm, Mackinac Partners\". Yahoo. May 11, 2021.\n",
      "^ \"Accordion Announces Strategic Acquisition of CFO Tech-Enablement Provider Platform Specialists\". Yahoo. February 23, 2022.\n",
      "^ \"Private equity consulting firm Accordion Partners takes Uptown office, eyes nearly doubled headcount\". Dallas Business Journal. June 8, 2022.\n",
      "^ \"Accordion Partners Acquires ABACI\". Mergr. August 4, 2022.\n",
      "^ \"FFL Sells Stake in CFO-Services Provider Accordion to Charlesbank, Motive\". Wall Street Journal. September 8, 2022.\n",
      "^ \"Charlesbank Capital and Motive Partners Invest in Accordion\". The Middle Market. September 9, 2022.\n",
      "^ \"FTX may have more than 1 million creditors\". BankingDive. November 15, 2022.\n",
      "^ \"Accordion to Buy Merilytics, as PE firms turn to value creation\". PE Hub. May 8, 2023.\n",
      "^ \"Accordion Announces Strategic Acquisition Of OperationsRx\". PRWeb. February 20, 2024.\n",
      "^ \"How a Private Equity Firm Struck a Balance at 1 Vanderbilt\". Commercial Observer. May 24, 2022.\n",
      "^ \"Accordion to Acquire Data & Analytics Leader Merilytics\". Yahoo. 8 May 2023. Retrieved August 16, 2023.\n",
      "External links[edit]\n",
      "Accordion Official Website\n",
      "Retrieved from \"https://en.wikipedia.org/w/index.php?title=Accordion_(company)&oldid=1250618034\"\n",
      "Categories: Privately held companies based in New York CityConsulting firms established in 2009Consulting firms of the United StatesAmerican companies established in 2009Hidden categories: Articles with short descriptionShort description matches WikidataPages using infobox company using trading name\n",
      " This page was last edited on 11 October 2024, at 13:54 (UTC).\n",
      "Text is available under the Creative Commons Attribution-ShareAlike 4.0 License;\n",
      "additional terms may apply. By using this site, you agree to the Terms of Use and Privacy Policy. Wikipedia® is a registered trademark of the Wikimedia Foundation, Inc., a non-profit organization.\n",
      "Privacy policy\n",
      "About Wikipedia\n",
      "Disclaimers\n",
      "Contact Wikipedia\n",
      "Code of Conduct\n",
      "Developers\n",
      "Statistics\n",
      "Cookie statement\n",
      "Mobile view\u001b[00m\n"
     ]
    },
    {
     "name": "stdout",
     "output_type": "stream",
     "text": [
      "\n",
      "\n",
      "\u001b[1m\u001b[95m# Agent:\u001b[00m \u001b[1m\u001b[92mInternet Research Agent\u001b[00m\n",
      "\u001b[95m## Final Answer:\u001b[00m \u001b[92m\n",
      "Accordion Partners LLC is a private equity-focused business advisory and management consulting firm headquartered in New York City. The company specializes in several key areas: Corporate and Strategic Finance, Merger and Acquisition Execution, Public Company Readiness, Turnaround and Restructuring, and Technology. Founded in 2009 by Nick Leopard, Accordion has grown significantly with offices in multiple locations, including Los Angeles, San Francisco, Chicago, Dallas, and Hyderabad, India. The firm supports private equity firms and their portfolio companies by providing a comprehensive suite of services aimed at improving financial performance and operational efficiency.\u001b[00m\n",
      "\n",
      "\n"
     ]
    }
   ],
   "source": [
    "inputs = {\"question\":\"Domain of the industry where accordion operates?\"}   \n",
    "response = crew.kickoff(inputs=inputs)"
   ]
  },
  {
   "cell_type": "code",
   "execution_count": 7,
   "id": "46a250c9-3a06-4341-98e7-8cd8f4f24368",
   "metadata": {},
   "outputs": [
    {
     "name": "stdout",
     "output_type": "stream",
     "text": [
      "Accordion Partners LLC is a private equity-focused business advisory and management consulting firm headquartered in New York City. The company specializes in several key areas: Corporate and Strategic Finance, Merger and Acquisition Execution, Public Company Readiness, Turnaround and Restructuring, and Technology. Founded in 2009 by Nick Leopard, Accordion has grown significantly with offices in multiple locations, including Los Angeles, San Francisco, Chicago, Dallas, and Hyderabad, India. The firm supports private equity firms and their portfolio companies by providing a comprehensive suite of services aimed at improving financial performance and operational efficiency.\n"
     ]
    }
   ],
   "source": [
    "print(response.raw)"
   ]
  },
  {
   "cell_type": "code",
   "execution_count": 8,
   "id": "0ef2e2c2",
   "metadata": {},
   "outputs": [
    {
     "data": {
      "text/plain": [
       "CrewOutput(raw='Accordion Partners LLC is a private equity-focused business advisory and management consulting firm headquartered in New York City. The company specializes in several key areas: Corporate and Strategic Finance, Merger and Acquisition Execution, Public Company Readiness, Turnaround and Restructuring, and Technology. Founded in 2009 by Nick Leopard, Accordion has grown significantly with offices in multiple locations, including Los Angeles, San Francisco, Chicago, Dallas, and Hyderabad, India. The firm supports private equity firms and their portfolio companies by providing a comprehensive suite of services aimed at improving financial performance and operational efficiency.', pydantic=None, json_dict=None, tasks_output=[TaskOutput(description=\"Answer the following user's query : Domain of the industry where accordion operates?\", name=None, expected_output='A detailed information about the company on the topics mentioned in the Domain of the industry where accordion operates?', summary=\"Answer the following user's query : Domain of the industry...\", raw='Accordion Partners LLC is a private equity-focused business advisory and management consulting firm headquartered in New York City. The company specializes in several key areas: Corporate and Strategic Finance, Merger and Acquisition Execution, Public Company Readiness, Turnaround and Restructuring, and Technology. Founded in 2009 by Nick Leopard, Accordion has grown significantly with offices in multiple locations, including Los Angeles, San Francisco, Chicago, Dallas, and Hyderabad, India. The firm supports private equity firms and their portfolio companies by providing a comprehensive suite of services aimed at improving financial performance and operational efficiency.', pydantic=None, json_dict=None, agent='Internet Research Agent', output_format=<OutputFormat.RAW: 'raw'>)], token_usage=UsageMetrics(total_tokens=4692, prompt_tokens=4201, completion_tokens=491, successful_requests=3))"
      ]
     },
     "execution_count": 8,
     "metadata": {},
     "output_type": "execute_result"
    }
   ],
   "source": [
    "response"
   ]
  },
  {
   "cell_type": "code",
   "execution_count": null,
   "id": "ae2f8e28",
   "metadata": {},
   "outputs": [],
   "source": []
  },
  {
   "cell_type": "code",
   "execution_count": null,
   "id": "70becc0e",
   "metadata": {},
   "outputs": [],
   "source": []
  },
  {
   "cell_type": "code",
   "execution_count": null,
   "id": "5918de46",
   "metadata": {},
   "outputs": [],
   "source": []
  },
  {
   "cell_type": "code",
   "execution_count": null,
   "id": "946079ac-4c7c-4c55-87d5-65ae6315d4f8",
   "metadata": {},
   "outputs": [],
   "source": []
  },
  {
   "cell_type": "code",
   "execution_count": null,
   "id": "979d292f",
   "metadata": {},
   "outputs": [],
   "source": []
  }
 ],
 "metadata": {
  "kernelspec": {
   "display_name": "Python 3 (ipykernel)",
   "language": "python",
   "name": "python3"
  },
  "language_info": {
   "codemirror_mode": {
    "name": "ipython",
    "version": 3
   },
   "file_extension": ".py",
   "mimetype": "text/x-python",
   "name": "python",
   "nbconvert_exporter": "python",
   "pygments_lexer": "ipython3",
   "version": "3.10.0"
  }
 },
 "nbformat": 4,
 "nbformat_minor": 5
}
